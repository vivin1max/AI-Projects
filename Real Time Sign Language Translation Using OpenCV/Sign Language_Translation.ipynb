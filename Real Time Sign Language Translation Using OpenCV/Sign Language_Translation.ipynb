{
  "nbformat": 4,
  "nbformat_minor": 0,
  "metadata": {
    "colab": {
      "name": "ASL-Translation.ipynb",
      "provenance": []
    },
    "kernelspec": {
      "name": "python3",
      "display_name": "Python 3"
    },
    "accelerator": "GPU"
  },
  "cells": [
    {
      "cell_type": "code",
      "metadata": {
        "id": "_gn8hAZCbebv",
        "colab": {
          "base_uri": "https://localhost:8080/",
          "height": 34
        },
        "outputId": "f354c24e-9993-4460-e727-a36a42ccd25a"
      },
      "source": [
        "%tensorflow_version 1.x"
      ],
      "execution_count": null,
      "outputs": [
        {
          "output_type": "stream",
          "text": [
            "TensorFlow 1.x selected.\n"
          ],
          "name": "stdout"
        }
      ]
    },
    {
      "cell_type": "code",
      "metadata": {
        "id": "ytEOVMktjzXZ"
      },
      "source": [
        "!unzip \"/content/drive/My Drive/cnn/asl-full.zip\""
      ],
      "execution_count": null,
      "outputs": []
    },
    {
      "cell_type": "code",
      "metadata": {
        "id": "iev-G-2dkSbQ",
        "colab": {
          "base_uri": "https://localhost:8080/",
          "height": 67
        },
        "outputId": "c18bde77-f2e8-4311-c7ba-60e3fc59d4bd"
      },
      "source": [
        "#prep\n",
        "\n",
        "import numpy as np\n",
        "import seaborn as sns\n",
        "from keras.preprocessing.image import load_img, img_to_array\n",
        "import matplotlib.pyplot as plt\n",
        "import os\n",
        "\n",
        "# size of the image\n",
        "pic_size = 48\n",
        "\n",
        "# input path for the images\n",
        "base_path = '/content/asl-full/'\n",
        "\n",
        "from keras.preprocessing.image import ImageDataGenerator\n",
        "\n",
        "# number of images to feed into the NN for every batch\n",
        "batch_size = 100\n",
        "\n",
        "datagen_train = ImageDataGenerator()\n",
        "datagen_validation = ImageDataGenerator()\n",
        "\n",
        "train_generator = datagen_train.flow_from_directory(base_path + \"train\",\n",
        "                                                    target_size=(pic_size,pic_size),\n",
        "                                                    color_mode=\"grayscale\",\n",
        "                                                    batch_size=batch_size,\n",
        "                                                    class_mode='categorical',\n",
        "                                                    shuffle=True)\n",
        "\n",
        "validation_generator = datagen_validation.flow_from_directory(base_path + \"validation\",\n",
        "                                                    target_size=(pic_size,pic_size),\n",
        "                                                    color_mode=\"grayscale\",\n",
        "                                                    batch_size=batch_size,\n",
        "                                                    class_mode='categorical',\n",
        "                                                    shuffle=False)"
      ],
      "execution_count": null,
      "outputs": [
        {
          "output_type": "stream",
          "text": [
            "Using TensorFlow backend.\n"
          ],
          "name": "stderr"
        },
        {
          "output_type": "stream",
          "text": [
            "Found 69600 images belonging to 29 classes.\n",
            "Found 17400 images belonging to 29 classes.\n"
          ],
          "name": "stdout"
        }
      ]
    },
    {
      "cell_type": "code",
      "metadata": {
        "id": "oeB7MUyKkcpv"
      },
      "source": [
        "#defining the model\n",
        "\n",
        "from keras.layers import Dense, Input, Dropout, GlobalAveragePooling2D, Flatten, Conv2D, BatchNormalization, Activation, MaxPooling2D\n",
        "from keras.models import Model, Sequential\n",
        "from keras.optimizers import Adam\n",
        "\n",
        "# number of possible label values\n",
        "nb_classes = 29\n",
        "\n",
        "# Initialising the CNN\n",
        "model = Sequential()\n",
        "\n",
        "# 1 - Convolution\n",
        "model.add(Conv2D(64,(3,3), padding='same', input_shape=(48, 48, 1)))\n",
        "model.add(BatchNormalization())\n",
        "model.add(Activation('relu'))\n",
        "model.add(MaxPooling2D(pool_size=(2, 2)))\n",
        "model.add(Dropout(0.25))\n",
        "\n",
        "# 2nd Convolution layer\n",
        "model.add(Conv2D(128,(5,5), padding='same'))\n",
        "model.add(BatchNormalization())\n",
        "model.add(Activation('relu'))\n",
        "model.add(MaxPooling2D(pool_size=(2, 2)))\n",
        "model.add(Dropout(0.25))\n",
        "\n",
        "# 3rd Convolution layer\n",
        "model.add(Conv2D(512,(3,3), padding='same'))\n",
        "model.add(BatchNormalization())\n",
        "model.add(Activation('relu'))\n",
        "model.add(MaxPooling2D(pool_size=(2, 2)))\n",
        "model.add(Dropout(0.25))\n",
        "\n",
        "# 4th Convolution layer\n",
        "model.add(Conv2D(512,(3,3), padding='same'))\n",
        "model.add(BatchNormalization())\n",
        "model.add(Activation('relu'))\n",
        "model.add(MaxPooling2D(pool_size=(2, 2)))\n",
        "model.add(Dropout(0.25))\n",
        "\n",
        "# Flattening\n",
        "model.add(Flatten())\n",
        "\n",
        "# Fully connected layer 1st layer\n",
        "model.add(Dense(256))\n",
        "model.add(BatchNormalization())\n",
        "model.add(Activation('relu'))\n",
        "model.add(Dropout(0.25))\n",
        "\n",
        "# Fully connected layer 2nd layer\n",
        "model.add(Dense(512))\n",
        "model.add(BatchNormalization())\n",
        "model.add(Activation('relu'))\n",
        "model.add(Dropout(0.25))\n",
        "\n",
        "model.add(Dense(nb_classes, activation='softmax'))\n",
        "\n",
        "opt = Adam(lr=0.0001)\n",
        "model.compile(optimizer=opt, loss='categorical_crossentropy', metrics=['accuracy'])"
      ],
      "execution_count": null,
      "outputs": []
    },
    {
      "cell_type": "code",
      "metadata": {
        "id": "0F6HI13Tk1zQ",
        "colab": {
          "base_uri": "https://localhost:8080/",
          "height": 1000
        },
        "outputId": "aea6a9c5-f6c1-41f6-bb69-bfcce23c696b"
      },
      "source": [
        "#start training\n",
        "\n",
        "epochs = 50\n",
        "\n",
        "from keras.callbacks import ModelCheckpoint\n",
        "\n",
        "checkpoint = ModelCheckpoint(\"model_weights.h5\", monitor='val_acc', verbose=1, save_best_only=True, mode='max')\n",
        "callbacks_list = [checkpoint]\n",
        "\n",
        "history = model.fit_generator(generator=train_generator,\n",
        "                                steps_per_epoch=train_generator.n//train_generator.batch_size,\n",
        "                                epochs=epochs,\n",
        "                                validation_data = validation_generator,\n",
        "                                validation_steps = validation_generator.n//validation_generator.batch_size,\n",
        "                                callbacks=callbacks_list\n",
        "                                )"
      ],
      "execution_count": null,
      "outputs": [
        {
          "output_type": "stream",
          "text": [
            "Epoch 1/50\n",
            "696/696 [==============================] - 41s 58ms/step - loss: 2.4948 - acc: 0.2786 - val_loss: 2.1818 - val_acc: 0.3433\n",
            "\n",
            "Epoch 00001: val_acc improved from -inf to 0.34328, saving model to model_weights.h5\n",
            "Epoch 2/50\n",
            "696/696 [==============================] - 31s 45ms/step - loss: 1.2350 - acc: 0.6125 - val_loss: 0.9610 - val_acc: 0.6960\n",
            "\n",
            "Epoch 00002: val_acc improved from 0.34328 to 0.69598, saving model to model_weights.h5\n",
            "Epoch 3/50\n",
            "696/696 [==============================] - 32s 46ms/step - loss: 0.7037 - acc: 0.7818 - val_loss: 0.4902 - val_acc: 0.8424\n",
            "\n",
            "Epoch 00003: val_acc improved from 0.69598 to 0.84241, saving model to model_weights.h5\n",
            "Epoch 4/50\n",
            "696/696 [==============================] - 32s 46ms/step - loss: 0.4408 - acc: 0.8640 - val_loss: 0.2812 - val_acc: 0.9055\n",
            "\n",
            "Epoch 00004: val_acc improved from 0.84241 to 0.90546, saving model to model_weights.h5\n",
            "Epoch 5/50\n",
            "696/696 [==============================] - 31s 45ms/step - loss: 0.2924 - acc: 0.9102 - val_loss: 0.1854 - val_acc: 0.9369\n",
            "\n",
            "Epoch 00005: val_acc improved from 0.90546 to 0.93690, saving model to model_weights.h5\n",
            "Epoch 6/50\n",
            "696/696 [==============================] - 31s 45ms/step - loss: 0.2054 - acc: 0.9372 - val_loss: 0.0633 - val_acc: 0.9845\n",
            "\n",
            "Epoch 00006: val_acc improved from 0.93690 to 0.98454, saving model to model_weights.h5\n",
            "Epoch 7/50\n",
            "696/696 [==============================] - 31s 45ms/step - loss: 0.1536 - acc: 0.9534 - val_loss: 0.0820 - val_acc: 0.9733\n",
            "\n",
            "Epoch 00007: val_acc did not improve from 0.98454\n",
            "Epoch 8/50\n",
            "696/696 [==============================] - 31s 45ms/step - loss: 0.1187 - acc: 0.9640 - val_loss: 0.0268 - val_acc: 0.9925\n",
            "\n",
            "Epoch 00008: val_acc improved from 0.98454 to 0.99253, saving model to model_weights.h5\n",
            "Epoch 9/50\n",
            "696/696 [==============================] - 31s 44ms/step - loss: 0.0922 - acc: 0.9718 - val_loss: 0.0258 - val_acc: 0.9917\n",
            "\n",
            "Epoch 00009: val_acc did not improve from 0.99253\n",
            "Epoch 10/50\n",
            "696/696 [==============================] - 31s 44ms/step - loss: 0.0729 - acc: 0.9780 - val_loss: 0.0197 - val_acc: 0.9943\n",
            "\n",
            "Epoch 00010: val_acc improved from 0.99253 to 0.99431, saving model to model_weights.h5\n",
            "Epoch 11/50\n",
            "696/696 [==============================] - 31s 44ms/step - loss: 0.0643 - acc: 0.9807 - val_loss: 0.0162 - val_acc: 0.9948\n",
            "\n",
            "Epoch 00011: val_acc improved from 0.99431 to 0.99477, saving model to model_weights.h5\n",
            "Epoch 12/50\n",
            "696/696 [==============================] - 31s 45ms/step - loss: 0.0515 - acc: 0.9843 - val_loss: 0.0165 - val_acc: 0.9956\n",
            "\n",
            "Epoch 00012: val_acc improved from 0.99477 to 0.99557, saving model to model_weights.h5\n",
            "Epoch 13/50\n",
            "696/696 [==============================] - 30s 43ms/step - loss: 0.0439 - acc: 0.9865 - val_loss: 0.0069 - val_acc: 0.9983\n",
            "\n",
            "Epoch 00013: val_acc improved from 0.99557 to 0.99833, saving model to model_weights.h5\n",
            "Epoch 14/50\n",
            "696/696 [==============================] - 30s 44ms/step - loss: 0.0400 - acc: 0.9876 - val_loss: 0.0031 - val_acc: 0.9993\n",
            "\n",
            "Epoch 00014: val_acc improved from 0.99833 to 0.99925, saving model to model_weights.h5\n",
            "Epoch 15/50\n",
            "696/696 [==============================] - 30s 43ms/step - loss: 0.0348 - acc: 0.9894 - val_loss: 0.0253 - val_acc: 0.9919\n",
            "\n",
            "Epoch 00015: val_acc did not improve from 0.99925\n",
            "Epoch 16/50\n",
            "696/696 [==============================] - 30s 43ms/step - loss: 0.0287 - acc: 0.9911 - val_loss: 0.0021 - val_acc: 0.9997\n",
            "\n",
            "Epoch 00016: val_acc improved from 0.99925 to 0.99966, saving model to model_weights.h5\n",
            "Epoch 17/50\n",
            "696/696 [==============================] - 30s 43ms/step - loss: 0.0291 - acc: 0.9908 - val_loss: 0.0371 - val_acc: 0.9844\n",
            "\n",
            "Epoch 00017: val_acc did not improve from 0.99966\n",
            "Epoch 18/50\n",
            "696/696 [==============================] - 30s 43ms/step - loss: 0.0227 - acc: 0.9930 - val_loss: 0.0015 - val_acc: 0.9997\n",
            "\n",
            "Epoch 00018: val_acc did not improve from 0.99966\n",
            "Epoch 19/50\n",
            "696/696 [==============================] - 30s 44ms/step - loss: 0.0228 - acc: 0.9929 - val_loss: 0.0142 - val_acc: 0.9956\n",
            "\n",
            "Epoch 00019: val_acc did not improve from 0.99966\n",
            "Epoch 20/50\n",
            "696/696 [==============================] - 30s 44ms/step - loss: 0.0196 - acc: 0.9940 - val_loss: 9.3104e-04 - val_acc: 1.0000\n",
            "\n",
            "Epoch 00020: val_acc improved from 0.99966 to 1.00000, saving model to model_weights.h5\n",
            "Epoch 21/50\n",
            "696/696 [==============================] - 30s 44ms/step - loss: 0.0196 - acc: 0.9938 - val_loss: 0.0114 - val_acc: 0.9958\n",
            "\n",
            "Epoch 00021: val_acc did not improve from 1.00000\n",
            "Epoch 22/50\n",
            "696/696 [==============================] - 30s 44ms/step - loss: 0.0175 - acc: 0.9946 - val_loss: 0.0016 - val_acc: 0.9998\n",
            "\n",
            "Epoch 00022: val_acc did not improve from 1.00000\n",
            "Epoch 23/50\n",
            "696/696 [==============================] - 30s 44ms/step - loss: 0.0157 - acc: 0.9954 - val_loss: 0.0016 - val_acc: 0.9997\n",
            "\n",
            "Epoch 00023: val_acc did not improve from 1.00000\n",
            "Epoch 24/50\n",
            "696/696 [==============================] - 30s 44ms/step - loss: 0.0141 - acc: 0.9956 - val_loss: 0.0011 - val_acc: 0.9996\n",
            "\n",
            "Epoch 00024: val_acc did not improve from 1.00000\n",
            "Epoch 25/50\n",
            "696/696 [==============================] - 31s 44ms/step - loss: 0.0136 - acc: 0.9959 - val_loss: 0.0013 - val_acc: 0.9997\n",
            "\n",
            "Epoch 00025: val_acc did not improve from 1.00000\n",
            "Epoch 26/50\n",
            "696/696 [==============================] - 31s 44ms/step - loss: 0.0120 - acc: 0.9963 - val_loss: 0.0022 - val_acc: 0.9991\n",
            "\n",
            "Epoch 00026: val_acc did not improve from 1.00000\n",
            "Epoch 27/50\n",
            "696/696 [==============================] - 31s 45ms/step - loss: 0.0131 - acc: 0.9958 - val_loss: 0.0024 - val_acc: 0.9995\n",
            "\n",
            "Epoch 00027: val_acc did not improve from 1.00000\n",
            "Epoch 28/50\n",
            "696/696 [==============================] - 33s 47ms/step - loss: 0.0118 - acc: 0.9964 - val_loss: 3.2285e-04 - val_acc: 1.0000\n",
            "\n",
            "Epoch 00028: val_acc did not improve from 1.00000\n",
            "Epoch 29/50\n",
            "696/696 [==============================] - 31s 44ms/step - loss: 0.0101 - acc: 0.9969 - val_loss: 0.0015 - val_acc: 0.9995\n",
            "\n",
            "Epoch 00029: val_acc did not improve from 1.00000\n",
            "Epoch 30/50\n",
            "696/696 [==============================] - 31s 45ms/step - loss: 0.0111 - acc: 0.9965 - val_loss: 0.0274 - val_acc: 0.9902\n",
            "\n",
            "Epoch 00030: val_acc did not improve from 1.00000\n",
            "Epoch 31/50\n",
            "696/696 [==============================] - 31s 44ms/step - loss: 0.0106 - acc: 0.9968 - val_loss: 5.3950e-04 - val_acc: 0.9999\n",
            "\n",
            "Epoch 00031: val_acc did not improve from 1.00000\n",
            "Epoch 32/50\n",
            "696/696 [==============================] - 31s 44ms/step - loss: 0.0092 - acc: 0.9971 - val_loss: 9.1753e-04 - val_acc: 0.9999\n",
            "\n",
            "Epoch 00032: val_acc did not improve from 1.00000\n",
            "Epoch 33/50\n",
            "696/696 [==============================] - 31s 44ms/step - loss: 0.0095 - acc: 0.9972 - val_loss: 0.0025 - val_acc: 0.9994\n",
            "\n",
            "Epoch 00033: val_acc did not improve from 1.00000\n",
            "Epoch 34/50\n",
            "696/696 [==============================] - 31s 44ms/step - loss: 0.0087 - acc: 0.9972 - val_loss: 2.0198e-04 - val_acc: 0.9999\n",
            "\n",
            "Epoch 00034: val_acc did not improve from 1.00000\n",
            "Epoch 35/50\n",
            "696/696 [==============================] - 31s 44ms/step - loss: 0.0081 - acc: 0.9974 - val_loss: 1.3494e-04 - val_acc: 1.0000\n",
            "\n",
            "Epoch 00035: val_acc did not improve from 1.00000\n",
            "Epoch 36/50\n",
            "696/696 [==============================] - 31s 44ms/step - loss: 0.0079 - acc: 0.9975 - val_loss: 0.0089 - val_acc: 0.9975\n",
            "\n",
            "Epoch 00036: val_acc did not improve from 1.00000\n",
            "Epoch 37/50\n",
            "696/696 [==============================] - 31s 44ms/step - loss: 0.0083 - acc: 0.9976 - val_loss: 6.0736e-04 - val_acc: 0.9999\n",
            "\n",
            "Epoch 00037: val_acc did not improve from 1.00000\n",
            "Epoch 38/50\n",
            "696/696 [==============================] - 31s 45ms/step - loss: 0.0084 - acc: 0.9975 - val_loss: 6.1385e-04 - val_acc: 0.9997\n",
            "\n",
            "Epoch 00038: val_acc did not improve from 1.00000\n",
            "Epoch 39/50\n",
            "696/696 [==============================] - 31s 45ms/step - loss: 0.0072 - acc: 0.9976 - val_loss: 0.0025 - val_acc: 0.9993\n",
            "\n",
            "Epoch 00039: val_acc did not improve from 1.00000\n",
            "Epoch 40/50\n",
            "696/696 [==============================] - 31s 44ms/step - loss: 0.0069 - acc: 0.9979 - val_loss: 0.0014 - val_acc: 0.9994\n",
            "\n",
            "Epoch 00040: val_acc did not improve from 1.00000\n",
            "Epoch 41/50\n",
            "696/696 [==============================] - 31s 45ms/step - loss: 0.0066 - acc: 0.9980 - val_loss: 6.4826e-05 - val_acc: 1.0000\n",
            "\n",
            "Epoch 00041: val_acc did not improve from 1.00000\n",
            "Epoch 42/50\n",
            "696/696 [==============================] - 31s 44ms/step - loss: 0.0062 - acc: 0.9978 - val_loss: 0.0103 - val_acc: 0.9961\n",
            "\n",
            "Epoch 00042: val_acc did not improve from 1.00000\n",
            "Epoch 43/50\n",
            "696/696 [==============================] - 31s 45ms/step - loss: 0.0051 - acc: 0.9984 - val_loss: 0.0021 - val_acc: 0.9994\n",
            "\n",
            "Epoch 00043: val_acc did not improve from 1.00000\n",
            "Epoch 44/50\n",
            "696/696 [==============================] - 31s 44ms/step - loss: 0.0057 - acc: 0.9982 - val_loss: 7.0088e-05 - val_acc: 1.0000\n",
            "\n",
            "Epoch 00044: val_acc did not improve from 1.00000\n",
            "Epoch 45/50\n",
            "696/696 [==============================] - 31s 45ms/step - loss: 0.0065 - acc: 0.9980 - val_loss: 4.5640e-04 - val_acc: 0.9999\n",
            "\n",
            "Epoch 00045: val_acc did not improve from 1.00000\n",
            "Epoch 46/50\n",
            "696/696 [==============================] - 31s 45ms/step - loss: 0.0069 - acc: 0.9979 - val_loss: 0.0066 - val_acc: 0.9976\n",
            "\n",
            "Epoch 00046: val_acc did not improve from 1.00000\n",
            "Epoch 47/50\n",
            "696/696 [==============================] - 31s 44ms/step - loss: 0.0044 - acc: 0.9987 - val_loss: 4.9497e-04 - val_acc: 0.9998\n",
            "\n",
            "Epoch 00047: val_acc did not improve from 1.00000\n",
            "Epoch 48/50\n",
            "696/696 [==============================] - 31s 45ms/step - loss: 0.0059 - acc: 0.9981 - val_loss: 9.3323e-05 - val_acc: 1.0000\n",
            "\n",
            "Epoch 00048: val_acc did not improve from 1.00000\n",
            "Epoch 49/50\n",
            "696/696 [==============================] - 31s 45ms/step - loss: 0.0054 - acc: 0.9983 - val_loss: 4.1746e-04 - val_acc: 0.9999\n",
            "\n",
            "Epoch 00049: val_acc did not improve from 1.00000\n",
            "Epoch 50/50\n",
            "696/696 [==============================] - 31s 44ms/step - loss: 0.0052 - acc: 0.9984 - val_loss: 1.6967e-04 - val_acc: 0.9999\n",
            "\n",
            "Epoch 00050: val_acc did not improve from 1.00000\n"
          ],
          "name": "stdout"
        }
      ]
    },
    {
      "cell_type": "code",
      "metadata": {
        "id": "gIk0MTfik4Zr"
      },
      "source": [
        "#save the model for predictions\n",
        "\n",
        "model.save('full.model')"
      ],
      "execution_count": null,
      "outputs": []
    },
    {
      "cell_type": "code",
      "metadata": {
        "id": "8XpdTgj8wHgS",
        "colab": {
          "base_uri": "https://localhost:8080/",
          "height": 630
        },
        "outputId": "8655d4ea-214f-4415-9944-73cbdfbca60a"
      },
      "source": [
        "# plot change in loss and accuracy\n",
        "\n",
        "import matplotlib.pyplot as plt\n",
        "\n",
        "plt.figure(figsize=(20,10))\n",
        "plt.subplot(1, 2, 1)\n",
        "plt.suptitle('Optimizer : Adam', fontsize=10)\n",
        "plt.ylabel('Loss', fontsize=16)\n",
        "plt.plot(history.history['loss'], label='Training Loss')\n",
        "plt.plot(history.history['val_loss'], label='Validation Loss')\n",
        "plt.legend(loc='upper right')\n",
        "\n",
        "plt.subplot(1, 2, 2)\n",
        "plt.ylabel('Accuracy', fontsize=16)\n",
        "plt.plot(history.history['acc'], label='Training Accuracy')\n",
        "plt.plot(history.history['val_acc'], label='Validation Accuracy')\n",
        "plt.legend(loc='lower right')\n",
        "plt.show()"
      ],
      "execution_count": null,
      "outputs": [
        {
          "output_type": "display_data",
          "data": {
            "image/png": "[encoded data removed]",
            "text/plain": [
              "<Figure size 1440x720 with 2 Axes>"
            ]
          },
          "metadata": {
            "tags": []
          }
        }
      ]
    },
    {
      "cell_type": "code",
      "metadata": {
        "id": "HNNtwLBRlFrd"
      },
      "source": [
        "#Show predicition for one image\n",
        "\n",
        "import tensorflow as tf\n",
        "import cv2\n",
        "import numpy as np\n",
        "\n",
        "\n",
        "CATEGORIES = [\"A\", \"B\", \"C\", \"D\", \"E\", \"F\", \"G\", \"H\", \"I\", \"J\", \"K\", \"L\", \"M\", \"N\", \"O\", \"P\", \"Q\", \"R\", \"S\", \"T\", \"U\", \"V\", \"W\", \"X\", \"Y\", \"Z\", \"del\", \"nothing\", \"space\"]\n",
        "\n",
        "\n",
        "def prepare(filepath):\n",
        "    IMG_SIZE = 48\n",
        "    img_array = cv2.imread(filepath, cv2. IMREAD_GRAYSCALE)\n",
        "    new_array = cv2.resize(img_array, (IMG_SIZE, IMG_SIZE))\n",
        "    return new_array.reshape(-1, IMG_SIZE, IMG_SIZE, 1) \n",
        "\n",
        "\n",
        "\n",
        "model = tf.keras.models.load_model(\"/content/full.model\")"
      ],
      "execution_count": null,
      "outputs": []
    },
    {
      "cell_type": "code",
      "metadata": {
        "id": "HxTr6Bh2Lte6"
      },
      "source": [
        "prediction = model.predict([prepare(\"img\")])\n",
        "\n",
        "print(prediction)\n",
        "print(CATEGORIES[int(np.argmax(prediction[0]))])"
      ],
      "execution_count": null,
      "outputs": []
    }
  ]
}