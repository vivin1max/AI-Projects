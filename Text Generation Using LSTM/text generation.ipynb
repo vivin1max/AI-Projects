{
  "nbformat": 4,
  "nbformat_minor": 0,
  "metadata": {
    "colab": {
      "name": "textgenDA.ipynb",
      "provenance": [],
      "collapsed_sections": []
    },
    "kernelspec": {
      "name": "python3",
      "display_name": "Python 3"
    },
    "language_info": {
      "name": "python"
    },
    "accelerator": "GPU"
  },
  "cells": [
    {
      "cell_type": "markdown",
      "metadata": {
        "id": "it6hiz_18GeW"
      },
      "source": [
        "\n",
        "\n",
        "#**TEXT GENERATION USING LSTM AND CALCULATING N-GRAM PROBABLITIES AND PERPLEXITY BEFORE AND AFTER SMOOTHING**\n",
        "\n",
        "\n",
        "*link for the corpus used*: https://www.gutenberg.org/ebooks/11\n",
        "\n"
      ]
    },
    {
      "cell_type": "markdown",
      "metadata": {
        "id": "iBWAgO1PL749"
      },
      "source": [
        "#N-GRAM PROBABLITIES AND PERPLEXITY BEFORE AND AFTER SMOOTHING."
      ]
    },
    {
      "cell_type": "code",
      "metadata": {
        "id": "qVsylBfnRgYe"
      },
      "source": [
        "from tensorflow.keras.preprocessing.sequence import pad_sequences\n",
        "from tensorflow.keras.layers import Embedding, LSTM, Dense, Dropout, Bidirectional\n",
        "from tensorflow.keras.preprocessing.text import Tokenizer\n",
        "from tensorflow.keras.models import Sequential\n",
        "from tensorflow.keras.optimizers import Adam\n",
        "from tensorflow.keras import regularizers\n",
        "import tensorflow.keras.utils as ku \n",
        "import numpy as np\n",
        "import re\n",
        "import tensorflow as tf"
      ],
      "execution_count": null,
      "outputs": []
    },
    {
      "cell_type": "markdown",
      "metadata": {
        "id": "j-NHrVrY-B_c"
      },
      "source": [
        "##Reading the file and preprocessing the text\n",
        "\n",
        "note: abcdef and fedcba are used as sentence initiator and terminator respectively"
      ]
    },
    {
      "cell_type": "code",
      "metadata": {
        "id": "X6t_lx0cSEmJ"
      },
      "source": [
        "f = open(\"Alice.txt\",'r')  \n",
        "data = f.read()"
      ],
      "execution_count": null,
      "outputs": []
    },
    {
      "cell_type": "code",
      "metadata": {
        "id": "YlnZMhx69B9u",
        "colab": {
          "base_uri": "https://localhost:8080/"
        },
        "outputId": "fe96a3fc-3cce-41f8-a142-c52b63154fb9"
      },
      "source": [
        "tokenizer = Tokenizer()\n",
        "corpus = data.lower().split(\".\")\n",
        "for i in range(0,len(corpus)):\n",
        "  s = re.sub(' +',' ',(re.sub(r'[^\\w]', ' ', corpus[i])))\n",
        "  corpus[i] = \"abcdef \" + s + \" fedcba\"   \n",
        "print(len(corpus))\n",
        "tokenizer.fit_on_texts(corpus)\n",
        "total_words = len(tokenizer.word_index) + 1\n",
        "\n",
        "\n",
        "\n"
      ],
      "execution_count": null,
      "outputs": [
        {
          "output_type": "stream",
          "text": [
            "1223\n"
          ],
          "name": "stdout"
        }
      ]
    },
    {
      "cell_type": "markdown",
      "metadata": {
        "id": "Es2UBUg_C8lJ"
      },
      "source": [
        "#CALCULATING NGRAM PROBABLITIES:\n",
        "\n",
        "Given a list of n-grams(unigram or bigram or trigram) we can count the number of occurrences of each n-gram, this count determines the frequency with which an n-gram occurs throughout our document and thus using this we can find the probablity of the sentence.\n",
        "\n",
        "#SMOOTHING\n",
        "\n",
        "Laplace smoothing is a smoothing technique that helps tackle the problem of zero probability. This is done by adding \"K\" to the numerator and \"KV\" to the denominator, where K is any random number and V is the total number of unique n-grams in the dataset . In this case we take K = 1.\n",
        "\n",
        "We find probablities with and without smoothing.\n",
        "\n",
        "#PERPLEXITY\n",
        "\n",
        "Perplexity is a measurement of how well a probability distribution or probability model predicts a sample. It may be used to compare probability models. A low perplexity indicates the probability distribution is good at predicting the sample.\n",
        "\n",
        "\n"
      ]
    },
    {
      "cell_type": "markdown",
      "metadata": {
        "id": "l0TZ6xUvGX3u"
      },
      "source": [
        "![image.png](data:image/png;base64,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)"
      ]
    },
    {
      "cell_type": "markdown",
      "metadata": {
        "id": "lkw5Ny5oGW0o"
      },
      "source": [
        "*WE CALCULATE N-GRAM(UNIGRAM, BIGRAM, TRIGRAM) PROBABLITIES WITH AND WITHOUT SMOOTHING, THEN FIND PERPLEXITY IN BOTH THE CASES FOR EACH N-GRAM.*"
      ]
    },
    {
      "cell_type": "markdown",
      "metadata": {
        "id": "KzbfgJ_188TF"
      },
      "source": [
        "\n",
        "\n",
        "\n",
        "\n",
        "#UNIGRAM\n",
        "\n",
        "A 1-gram (or unigram) is a one-word sequence. For the above sentence, the unigrams would simply be: “I”, “love”, “reading”, “blogs”, “about”, “data”, “science”.\n",
        "\n"
      ]
    },
    {
      "cell_type": "markdown",
      "metadata": {
        "id": "IFqgwcTkOKG5"
      },
      "source": [
        "Finding all unigrams from the document and pre-processing it."
      ]
    },
    {
      "cell_type": "code",
      "metadata": {
        "id": "JaN4LSUF8w0z"
      },
      "source": [
        "unigram = []\n",
        "uunigram = 0\n",
        "for j in corpus:\n",
        " token_list = tokenizer.texts_to_sequences([j])[0]\n",
        " for i in range(0,len(token_list)):\n",
        "  n_gram_sequence = token_list[i:i+1]\n",
        "  if (unigram.count(n_gram_sequence) == 0):\n",
        "    uunigram = uunigram + 1\n",
        "  unigram.append(n_gram_sequence)"
      ],
      "execution_count": null,
      "outputs": []
    },
    {
      "cell_type": "markdown",
      "metadata": {
        "id": "xp0FDksG9smF"
      },
      "source": [
        "**WITHOUT SMOOTHING**\n",
        "\n",
        "The formula for finding unigram probablity **without smoothing** is as shown below."
      ]
    },
    {
      "cell_type": "markdown",
      "metadata": {
        "id": "yYZGtpesCV1k"
      },
      "source": [
        "![image.png](data:image/png;base64,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)"
      ]
    },
    {
      "cell_type": "code",
      "metadata": {
        "id": "cxgK0h869MEf",
        "colab": {
          "base_uri": "https://localhost:8080/"
        },
        "outputId": "f3094db3-3f9b-4ab3-b440-6387237cc502"
      },
      "source": [
        "seed = \"we indeed cried the mouse who was trembling down to the end of his tail\"\n",
        "seed = seed.lower()\n",
        "seed = \"abcdef \" + seed + \" fedcba\"\n",
        "seed_list = tokenizer.texts_to_sequences([seed])[0]\n",
        "prob = 1\n",
        "for i in seed_list:\n",
        "  prob = prob*(unigram.count([i])/len(unigram))\n",
        "print('UNIGRAM PROBABLITY WITHOUT SMOOTHING:',prob)\n",
        "perp = (1/prob)**(1/(len(seed_list)-2))\n",
        "print('PERPLEXITY:',perp)"
      ],
      "execution_count": null,
      "outputs": [
        {
          "output_type": "stream",
          "text": [
            "UNIGRAM PROBABLITY WITHOUT SMOOTHING: 5.569529489002708e-42\n",
            "PERPLEXITY: 562.7023982753366\n"
          ],
          "name": "stdout"
        }
      ]
    },
    {
      "cell_type": "markdown",
      "metadata": {
        "id": "54mJwVH89-aj"
      },
      "source": [
        "**WITH SMOOTHING**\n",
        "\n",
        "The formula for finding unigram probablity **with smoothing** is as shown below."
      ]
    },
    {
      "cell_type": "markdown",
      "metadata": {
        "id": "3DXcIS2kEHqC"
      },
      "source": [
        "![image.png](data:image/png;base64,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)"
      ]
    },
    {
      "cell_type": "code",
      "metadata": {
        "id": "71iumtE79NIi",
        "colab": {
          "base_uri": "https://localhost:8080/"
        },
        "outputId": "7a51b26c-46c5-4f96-93b8-69a61c7ab431"
      },
      "source": [
        "seed = \"Praveen indeed cried the mouse who was trembling down to the end of his tail\"\n",
        "seed = seed.lower()\n",
        "seed = \"abcdef \" + seed + \" fedcba\"\n",
        "seed = seed.split(\" \")\n",
        "seed_list = []\n",
        "for i in seed:\n",
        "  if (len(tokenizer.texts_to_sequences([i])[0]) == 0):\n",
        "    seed_list.append(10000)\n",
        "  else:\n",
        "    seed_list.append(tokenizer.texts_to_sequences([i])[0][0])\n",
        "prob = 1\n",
        "for i in seed_list:\n",
        "  if (i == 10000):\n",
        "    prob = prob*(1/(len(unigram)+ uunigram))\n",
        "  else:\n",
        "    prob = prob*((unigram.count([i])+1)/(len(unigram)+uunigram))\n",
        "print('UNIIGRAM PROBABLITY WITH SMOOTHING:',prob)\n",
        "perp = (1/prob)**(1/(len(seed_list)-2))\n",
        "print('PERPLEXITY:',perp)"
      ],
      "execution_count": null,
      "outputs": [
        {
          "output_type": "stream",
          "text": [
            "UNIIGRAM PROBABLITY WITH SMOOTHING: 4.733709798602766e-44\n",
            "PERPLEXITY: 773.2499335297769\n"
          ],
          "name": "stdout"
        }
      ]
    },
    {
      "cell_type": "markdown",
      "metadata": {
        "id": "pLTKqNr69Vw6"
      },
      "source": [
        "#BIGRAM"
      ]
    },
    {
      "cell_type": "markdown",
      "metadata": {
        "id": "EsxMBof3CMTu"
      },
      "source": [
        "A 2-gram (or bigram) is a two-word sequence of words, like “I love”, “love reading”.\n",
        "\n",
        "Finding all bigrams from the document and pre-processing it."
      ]
    },
    {
      "cell_type": "code",
      "metadata": {
        "id": "RzYpy1aB9XiL"
      },
      "source": [
        "bigram = []\n",
        "ubigram = 0\n",
        "for j in corpus:\n",
        " token_list = tokenizer.texts_to_sequences([j])[0]\n",
        " for i in range(0,len(token_list)-1):\n",
        "  n_gram_sequence = token_list[i:i+2]\n",
        "  if (bigram.count(n_gram_sequence) == 0):\n",
        "    ubigram = ubigram + 1\n",
        "  bigram.append(n_gram_sequence)"
      ],
      "execution_count": null,
      "outputs": []
    },
    {
      "cell_type": "markdown",
      "metadata": {
        "id": "UNol1__c9yd1"
      },
      "source": [
        "**WITHOUT SMOOTHING**\n",
        "\n",
        "The formula for finding bigram probablity **without smoothing** is as shown below."
      ]
    },
    {
      "cell_type": "markdown",
      "metadata": {
        "id": "PjnuI7ZcCdPL"
      },
      "source": [
        "![image.png](data:image/png;base64,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)"
      ]
    },
    {
      "cell_type": "code",
      "metadata": {
        "id": "8vvyfgsb9YW6",
        "colab": {
          "base_uri": "https://localhost:8080/"
        },
        "outputId": "6a5e8be3-2df4-4222-822c-c8775443df6d"
      },
      "source": [
        "seed = \"we indeed cried the mouse who was trembling down to the end of his tail\"\n",
        "seed = seed.lower()\n",
        "seed = \"abcdef \" + seed + \" fedcba\"\n",
        "seed_list = tokenizer.texts_to_sequences([seed])[0]\n",
        "prob = 1\n",
        "for i in range(0, len(seed_list)-1):\n",
        "  prob = prob*(bigram.count([seed_list[i],seed_list[i+1]])/unigram.count([seed_list[i]]))\n",
        "print('BIGRAM PROBABLITY WITHOUT SMOOTHING:',prob)\n",
        "perp = (1/prob)**(1/(len(seed_list)-2))\n",
        "print('PERPLEXITY:',perp)"
      ],
      "execution_count": null,
      "outputs": [
        {
          "output_type": "stream",
          "text": [
            "BIGRAM PROBABLITY WITHOUT SMOOTHING: 8.741024542510523e-23\n",
            "PERPLEXITY: 29.55034194224762\n"
          ],
          "name": "stdout"
        }
      ]
    },
    {
      "cell_type": "markdown",
      "metadata": {
        "id": "Ji0LzCry98bh"
      },
      "source": [
        "**WITH SMOOTHING**\n",
        "\n",
        "The formula for finding bigram probablity **with smoothing** is as shown below."
      ]
    },
    {
      "cell_type": "markdown",
      "metadata": {
        "id": "AOh00cmJEqL-"
      },
      "source": [
        "![image.png](data:image/png;base64,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)"
      ]
    },
    {
      "cell_type": "code",
      "metadata": {
        "id": "x5q3k_Y99YJb",
        "colab": {
          "base_uri": "https://localhost:8080/"
        },
        "outputId": "1204f32f-b7a7-4084-f67c-94cc8c34f4c0"
      },
      "source": [
        "seed = \"Praveen indeed cried the mouse who was trembling down to the end of his tail\"\n",
        "seed = seed.lower()\n",
        "seed = \"abcdef \" + seed + \" fedcba\"\n",
        "seed = seed.split(\" \")\n",
        "seed_list = []\n",
        "for i in seed:\n",
        "  if (len(tokenizer.texts_to_sequences([i])[0]) == 0):\n",
        "    seed_list.append(10000)\n",
        "  else:\n",
        "    seed_list.append(tokenizer.texts_to_sequences([i])[0][0])\n",
        "prob = 1\n",
        "for i in range(0, len(seed_list)-1):\n",
        "  if (seed_list[i] == 10000 or seed_list[i+1] == 10000):\n",
        "    prob = prob*(1/(len(bigram)+ ubigram))\n",
        "  else:\n",
        "    prob = prob*((bigram.count([seed_list[i],seed_list[i+1]])+1)/(unigram.count([seed_list[i]])+ubigram))\n",
        "print('BIGRAM PROBABLITY WITH SMOOTHING:',prob)\n",
        "perp = (1/prob)**(1/(len(seed_list)-2))\n",
        "print('PERPLEXITY:',perp)"
      ],
      "execution_count": null,
      "outputs": [
        {
          "output_type": "stream",
          "text": [
            "BIGRAM PROBABLITY WITH SMOOTHING: 9.147004341630002e-58\n",
            "PERPLEXITY: 6347.188666419688\n"
          ],
          "name": "stdout"
        }
      ]
    },
    {
      "cell_type": "markdown",
      "metadata": {
        "id": "fP1QFS3C9gqF"
      },
      "source": [
        "#TRIGRAM"
      ]
    },
    {
      "cell_type": "markdown",
      "metadata": {
        "id": "pr6LlDtFCPBx"
      },
      "source": [
        "A 3-gram (or trigram) is a three-word sequence of words like “I love reading”, “about data science”.\n",
        "\n",
        "Finding all trigrams from the document and pre-processing it."
      ]
    },
    {
      "cell_type": "code",
      "metadata": {
        "id": "-z5B11vs9ins"
      },
      "source": [
        "trigram = []\n",
        "utrigram = 0\n",
        "for j in corpus:\n",
        " token_list = tokenizer.texts_to_sequences([j])[0]\n",
        " for i in range(0,len(token_list)-2):\n",
        "  n_gram_sequence = token_list[i:i+3]\n",
        "  if (trigram.count(n_gram_sequence) == 0):\n",
        "    utrigram = utrigram + 1\n",
        "  trigram.append(n_gram_sequence)"
      ],
      "execution_count": null,
      "outputs": []
    },
    {
      "cell_type": "markdown",
      "metadata": {
        "id": "LWzu3QIN90PM"
      },
      "source": [
        "**WITHOUT SMOOTHING**\n",
        "\n",
        "The formula for finding trigram probablity **without smoothing** is as shown below."
      ]
    },
    {
      "cell_type": "markdown",
      "metadata": {
        "id": "Q8nijf_DFDMA"
      },
      "source": [
        "![image.png](data:image/png;base64,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)"
      ]
    },
    {
      "cell_type": "code",
      "metadata": {
        "id": "nqo3UJMp9jRk",
        "colab": {
          "base_uri": "https://localhost:8080/"
        },
        "outputId": "0ad2a13e-b8c9-409a-f863-e9b2235aad5f"
      },
      "source": [
        "seed = \"we indeed cried the mouse who was trembling down to the end of his tail\"\n",
        "seed = seed.lower()\n",
        "seed = \"abcdef \" + seed + \" fedcba\"\n",
        "seed_list = tokenizer.texts_to_sequences([seed])[0]\n",
        "prob = 1\n",
        "for i in range(0, len(seed_list)-2):\n",
        "  prob = prob*(trigram.count([seed_list[i],seed_list[i+1],seed_list[i+2]])/bigram.count([seed_list[i],seed_list[i+1]]))\n",
        "print('TRIGRAM PROBABLITY WITHOUT SMOOTHING:',prob)\n",
        "perp = (1/prob)**(1/(len(seed_list)-2))\n",
        "print('PERPLEXITY:',perp)"
      ],
      "execution_count": null,
      "outputs": [
        {
          "output_type": "stream",
          "text": [
            "TRIGRAM PROBABLITY WITHOUT SMOOTHING: 7.8156262505002e-09\n",
            "PERPLEXITY: 3.471115629883686\n"
          ],
          "name": "stdout"
        }
      ]
    },
    {
      "cell_type": "markdown",
      "metadata": {
        "id": "Q8UCdKej92AQ"
      },
      "source": [
        "**WITH SMOOTHING**\n",
        "\n",
        "The formula for finding trigram probablity **with smoothing** is as shown below."
      ]
    },
    {
      "cell_type": "markdown",
      "metadata": {
        "id": "WKCBwNM4E9fl"
      },
      "source": [
        "![image.png](data:image/png;base64,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)"
      ]
    },
    {
      "cell_type": "code",
      "metadata": {
        "id": "gulSW2WS9jE5",
        "colab": {
          "base_uri": "https://localhost:8080/"
        },
        "outputId": "bfc14ca7-8bc2-4352-dd5a-07856401970e"
      },
      "source": [
        "seed = \"Praveen indeed cried the mouse who was trembling down to the end of his tail\"\n",
        "seed = seed.lower()\n",
        "seed = \"abcdef \" + seed + \" fedcba\"\n",
        "seed = seed.split(\" \")\n",
        "seed_list = []\n",
        "for i in seed:\n",
        "  if (len(tokenizer.texts_to_sequences([i])[0]) == 0):\n",
        "    seed_list.append(10000)\n",
        "  else:\n",
        "    seed_list.append(tokenizer.texts_to_sequences([i])[0][0])\n",
        "prob = 1\n",
        "for i in range(0, len(seed_list)-2):\n",
        "  if (seed_list[i] == 10000 or seed_list[i+1] == 10000 or seed_list[i+2] == 10000):\n",
        "    prob = prob*(1/(len(trigram)+ utrigram))\n",
        "  else:\n",
        "    prob = prob*((trigram.count([seed_list[i],seed_list[i+1],seed_list[i+2]])+1)/(bigram.count([seed_list[i],seed_list[i+1]])+utrigram))\n",
        "print('TRIGRAM PROBABLITY WITH SMOOTHING:',prob)\n",
        "perp = (1/prob)**(1/(len(seed_list)-2))\n",
        "print('PERPLEXITY:',perp)"
      ],
      "execution_count": null,
      "outputs": [
        {
          "output_type": "stream",
          "text": [
            "TRIGRAM PROBABLITY WITH SMOOTHING: 3.3506511678715794e-62\n",
            "PERPLEXITY: 12540.784900997995\n"
          ],
          "name": "stdout"
        }
      ]
    },
    {
      "cell_type": "markdown",
      "metadata": {
        "id": "8eMnJCwq9EdU"
      },
      "source": [
        "#TEXT GENERATION USING LSTM\n",
        "\n",
        "TEXT GENERATION IN NLP:\n",
        "\n",
        "It is the process of automatically generating text by a model trained on a corpus.\n",
        "\n",
        "WE USE LSTM AS OUR MODEL\n",
        "\n",
        "Long short-term memory is an artificial recurrent neural network architecture used in the field of deep learning. Unlike standard feedforward neural networks, LSTM has feedback connections. It can not only process single data points, but also entire sequences of data."
      ]
    },
    {
      "cell_type": "markdown",
      "metadata": {
        "id": "bboO_HewI0s4"
      },
      "source": [
        "![image.png](data:image/png;base64,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)"
      ]
    },
    {
      "cell_type": "markdown",
      "metadata": {
        "id": "S_LwGz5sJBZR"
      },
      "source": [
        "**1.Reading dataset**"
      ]
    },
    {
      "cell_type": "code",
      "metadata": {
        "id": "kjLz4eFYIy2C"
      },
      "source": [
        "f = open(\"Alice.txt\",'r')  \n",
        "data = f.read()"
      ],
      "execution_count": null,
      "outputs": []
    },
    {
      "cell_type": "markdown",
      "metadata": {
        "id": "9eR0mFqyJCbj"
      },
      "source": [
        "**2.Tokenizing the words by making a dictionary (using fit_on_texts) where each unique word is associated with a number**"
      ]
    },
    {
      "cell_type": "code",
      "metadata": {
        "id": "C0lClxeQS53b",
        "colab": {
          "base_uri": "https://localhost:8080/"
        },
        "outputId": "750337ff-30a1-4bbc-fa0c-c888f0471119"
      },
      "source": [
        "tokenizer = Tokenizer()\n",
        "corpus = data.lower().split(\".\")\n",
        "for i in range(0,len(corpus)):\n",
        "  s = re.sub(' +',' ',(re.sub(r'[^\\w]', ' ', corpus[i])))\n",
        "  corpus[i] = s\n",
        "print(len(corpus))\n",
        "tokenizer.fit_on_texts(corpus)\n",
        "total_words = len(tokenizer.word_index) + 1"
      ],
      "execution_count": null,
      "outputs": [
        {
          "output_type": "stream",
          "text": [
            "1223\n"
          ],
          "name": "stdout"
        }
      ]
    },
    {
      "cell_type": "markdown",
      "metadata": {
        "id": "e6x0wwh4JGM6"
      },
      "source": [
        "**3.Converting sentences to respected vector list (using the numbers got from previous step). Creating n-gram sequences as inputs for all input sentences.**"
      ]
    },
    {
      "cell_type": "code",
      "metadata": {
        "id": "w1Zliq5SS6YG"
      },
      "source": [
        "input_sequences = []\n",
        "for j in corpus:\n",
        " token_list = tokenizer.texts_to_sequences([j])[0]\n",
        " for i in range(1, len(token_list)):\n",
        "  n_gram_sequence = token_list[:i+1]\n",
        "  input_sequences.append(n_gram_sequence)"
      ],
      "execution_count": null,
      "outputs": []
    },
    {
      "cell_type": "markdown",
      "metadata": {
        "id": "PYHnXGYmJKJ6"
      },
      "source": [
        "**4.Padding the input sequences to make it all of the same length. This will help the model learn better.**"
      ]
    },
    {
      "cell_type": "code",
      "metadata": {
        "id": "Srudmaf9TCqg"
      },
      "source": [
        "max_sequence_len = max([len(x) for x in input_sequences])\n",
        "input_sequences = np.array(pad_sequences(input_sequences, maxlen=max_sequence_len, padding='pre'))"
      ],
      "execution_count": null,
      "outputs": []
    },
    {
      "cell_type": "markdown",
      "metadata": {
        "id": "UJtwq17kJM21"
      },
      "source": [
        "**5.Creating input data and output data from given sequences. Further converts output labels into a standardized binary matrix using keras.utils.to_categorical**"
      ]
    },
    {
      "cell_type": "code",
      "metadata": {
        "id": "SVjqdwaJTGLl"
      },
      "source": [
        "predictors, label = input_sequences[:,:-1],input_sequences[:,-1]\n",
        "label = ku.to_categorical(label, num_classes=total_words)"
      ],
      "execution_count": null,
      "outputs": []
    },
    {
      "cell_type": "markdown",
      "metadata": {
        "id": "0RCW-BzlJP2C"
      },
      "source": [
        "**6.Building model using LSTM. Added dropout to prevent overfitting.**"
      ]
    },
    {
      "cell_type": "code",
      "metadata": {
        "id": "tSzmPZjSTIUY",
        "colab": {
          "base_uri": "https://localhost:8080/"
        },
        "outputId": "10572347-fde4-4a22-a94c-33711b6ec5cb"
      },
      "source": [
        "model = Sequential()\n",
        "model.add(Embedding(total_words, 100, input_length=max_sequence_len-1))\n",
        "model.add(LSTM(256, return_sequences=True))\n",
        "model.add(Dropout(0.2))\n",
        "model.add(LSTM(256))\n",
        "model.add(Dropout(0.2))\n",
        "model.add(Dense(total_words, activation='softmax'))\n",
        "model.compile(loss='categorical_crossentropy',metrics=['accuracy'], optimizer='adam')\n",
        "print(model.summary())"
      ],
      "execution_count": null,
      "outputs": [
        {
          "output_type": "stream",
          "text": [
            "Model: \"sequential_9\"\n",
            "_________________________________________________________________\n",
            "Layer (type)                 Output Shape              Param #   \n",
            "=================================================================\n",
            "embedding_6 (Embedding)      (None, 312, 100)          303800    \n",
            "_________________________________________________________________\n",
            "lstm_12 (LSTM)               (None, 312, 256)          365568    \n",
            "_________________________________________________________________\n",
            "dropout_11 (Dropout)         (None, 312, 256)          0         \n",
            "_________________________________________________________________\n",
            "lstm_13 (LSTM)               (None, 256)               525312    \n",
            "_________________________________________________________________\n",
            "dropout_12 (Dropout)         (None, 256)               0         \n",
            "_________________________________________________________________\n",
            "dense_7 (Dense)              (None, 3038)              780766    \n",
            "=================================================================\n",
            "Total params: 1,975,446\n",
            "Trainable params: 1,975,446\n",
            "Non-trainable params: 0\n",
            "_________________________________________________________________\n",
            "None\n"
          ],
          "name": "stdout"
        }
      ]
    },
    {
      "cell_type": "markdown",
      "metadata": {
        "id": "JwIPlvqmJTOb"
      },
      "source": [
        "**7.Checkpoints to save model every epoch the model does better.**"
      ]
    },
    {
      "cell_type": "code",
      "metadata": {
        "id": "yoyrvbegTKLx",
        "colab": {
          "base_uri": "https://localhost:8080/"
        },
        "outputId": "ae81e856-ae24-48fe-df7a-01cf6fd72b4f"
      },
      "source": [
        "from google.colab import drive\n",
        "drive.mount('/content/drive')"
      ],
      "execution_count": null,
      "outputs": [
        {
          "output_type": "stream",
          "text": [
            "Drive already mounted at /content/drive; to attempt to forcibly remount, call drive.mount(\"/content/drive\", force_remount=True).\n"
          ],
          "name": "stdout"
        }
      ]
    },
    {
      "cell_type": "code",
      "metadata": {
        "id": "H1MKM-P-TMvl"
      },
      "source": [
        "from keras.callbacks import ModelCheckpoint,EarlyStopping\n",
        "\n",
        "filepath = \"/content/drive/MyDrive/Text-Generator/model_training.hdf5\"\n",
        "checkpoint = ModelCheckpoint(filepath, monitor='loss',\n",
        "                             verbose=1, save_best_only=True,\n",
        "                             mode='min')\n",
        "early_stop = EarlyStopping(monitor='accuracy',\n",
        "                           patience=7,\n",
        "                           restore_best_weights=True,\n",
        "                           mode='max')\n",
        "callbacks = [checkpoint,early_stop]"
      ],
      "execution_count": null,
      "outputs": []
    },
    {
      "cell_type": "markdown",
      "metadata": {
        "id": "Q9zY4RSsJWX9"
      },
      "source": [
        "**8.Training the model**\n",
        "\n",
        "*IT TAKES AROUND 2 HRS TO TRAIN THE MODEL USING GPU. "
      ]
    },
    {
      "cell_type": "code",
      "metadata": {
        "id": "bJSWpa2OTOYZ",
        "colab": {
          "base_uri": "https://localhost:8080/"
        },
        "outputId": "e85f8424-3efe-4507-8c3e-930726853301"
      },
      "source": [
        "history = model.fit(predictors, label, epochs=100, verbose=1,callbacks=callbacks)"
      ],
      "execution_count": null,
      "outputs": [
        {
          "output_type": "stream",
          "text": [
            "Epoch 1/100\n",
            "921/921 [==============================] - 42s 43ms/step - loss: 6.4487 - accuracy: 0.0546\n",
            "\n",
            "Epoch 00001: loss improved from inf to 6.21541, saving model to /content/drive/MyDrive/Text-Generator/model_training.hdf5\n",
            "Epoch 2/100\n",
            "921/921 [==============================] - 40s 43ms/step - loss: 5.8156 - accuracy: 0.0708\n",
            "\n",
            "Epoch 00002: loss improved from 6.21541 to 5.79415, saving model to /content/drive/MyDrive/Text-Generator/model_training.hdf5\n",
            "Epoch 3/100\n",
            "921/921 [==============================] - 40s 43ms/step - loss: 5.4987 - accuracy: 0.0940\n",
            "\n",
            "Epoch 00003: loss improved from 5.79415 to 5.46979, saving model to /content/drive/MyDrive/Text-Generator/model_training.hdf5\n",
            "Epoch 4/100\n",
            "921/921 [==============================] - 40s 43ms/step - loss: 5.2235 - accuracy: 0.1195\n",
            "\n",
            "Epoch 00004: loss improved from 5.46979 to 5.21181, saving model to /content/drive/MyDrive/Text-Generator/model_training.hdf5\n",
            "Epoch 5/100\n",
            "921/921 [==============================] - 40s 43ms/step - loss: 4.9804 - accuracy: 0.1333\n",
            "\n",
            "Epoch 00005: loss improved from 5.21181 to 4.98698, saving model to /content/drive/MyDrive/Text-Generator/model_training.hdf5\n",
            "Epoch 6/100\n",
            "921/921 [==============================] - 40s 44ms/step - loss: 4.7731 - accuracy: 0.1507\n",
            "\n",
            "Epoch 00006: loss did not improve from 4.98698\n",
            "Epoch 7/100\n",
            "921/921 [==============================] - 40s 43ms/step - loss: 5.2095 - accuracy: 0.1155\n",
            "\n",
            "Epoch 00007: loss did not improve from 4.98698\n",
            "Epoch 8/100\n",
            "921/921 [==============================] - 40s 43ms/step - loss: 4.6840 - accuracy: 0.1506\n",
            "\n",
            "Epoch 00008: loss improved from 4.98698 to 4.66737, saving model to /content/drive/MyDrive/Text-Generator/model_training.hdf5\n",
            "Epoch 9/100\n",
            "921/921 [==============================] - 40s 43ms/step - loss: 4.4187 - accuracy: 0.1686\n",
            "\n",
            "Epoch 00009: loss improved from 4.66737 to 4.43057, saving model to /content/drive/MyDrive/Text-Generator/model_training.hdf5\n",
            "Epoch 10/100\n",
            "921/921 [==============================] - 40s 43ms/step - loss: 4.1414 - accuracy: 0.1938\n",
            "\n",
            "Epoch 00010: loss improved from 4.43057 to 4.19880, saving model to /content/drive/MyDrive/Text-Generator/model_training.hdf5\n",
            "Epoch 11/100\n",
            "921/921 [==============================] - 40s 43ms/step - loss: 3.9341 - accuracy: 0.2062\n",
            "\n",
            "Epoch 00011: loss improved from 4.19880 to 3.96968, saving model to /content/drive/MyDrive/Text-Generator/model_training.hdf5\n",
            "Epoch 12/100\n",
            "921/921 [==============================] - 40s 43ms/step - loss: 3.6768 - accuracy: 0.2305\n",
            "\n",
            "Epoch 00012: loss improved from 3.96968 to 3.72857, saving model to /content/drive/MyDrive/Text-Generator/model_training.hdf5\n",
            "Epoch 13/100\n",
            "921/921 [==============================] - 40s 43ms/step - loss: 3.4480 - accuracy: 0.2562\n",
            "\n",
            "Epoch 00013: loss improved from 3.72857 to 3.49591, saving model to /content/drive/MyDrive/Text-Generator/model_training.hdf5\n",
            "Epoch 14/100\n",
            "921/921 [==============================] - 40s 43ms/step - loss: 3.2031 - accuracy: 0.2884\n",
            "\n",
            "Epoch 00014: loss improved from 3.49591 to 3.26771, saving model to /content/drive/MyDrive/Text-Generator/model_training.hdf5\n",
            "Epoch 15/100\n",
            "921/921 [==============================] - 40s 43ms/step - loss: 2.9914 - accuracy: 0.3214\n",
            "\n",
            "Epoch 00015: loss improved from 3.26771 to 3.06543, saving model to /content/drive/MyDrive/Text-Generator/model_training.hdf5\n",
            "Epoch 16/100\n",
            "921/921 [==============================] - 40s 43ms/step - loss: 2.8023 - accuracy: 0.3512\n",
            "\n",
            "Epoch 00016: loss improved from 3.06543 to 2.87177, saving model to /content/drive/MyDrive/Text-Generator/model_training.hdf5\n",
            "Epoch 17/100\n",
            "921/921 [==============================] - 40s 43ms/step - loss: 2.6088 - accuracy: 0.3861\n",
            "\n",
            "Epoch 00017: loss improved from 2.87177 to 2.69431, saving model to /content/drive/MyDrive/Text-Generator/model_training.hdf5\n",
            "Epoch 18/100\n",
            "921/921 [==============================] - 40s 43ms/step - loss: 2.4648 - accuracy: 0.4143\n",
            "\n",
            "Epoch 00018: loss improved from 2.69431 to 2.53657, saving model to /content/drive/MyDrive/Text-Generator/model_training.hdf5\n",
            "Epoch 19/100\n",
            "921/921 [==============================] - 40s 43ms/step - loss: 2.3020 - accuracy: 0.4461\n",
            "\n",
            "Epoch 00019: loss improved from 2.53657 to 2.37955, saving model to /content/drive/MyDrive/Text-Generator/model_training.hdf5\n",
            "Epoch 20/100\n",
            "921/921 [==============================] - 40s 43ms/step - loss: 2.1667 - accuracy: 0.4751\n",
            "\n",
            "Epoch 00020: loss improved from 2.37955 to 2.23820, saving model to /content/drive/MyDrive/Text-Generator/model_training.hdf5\n",
            "Epoch 21/100\n",
            "921/921 [==============================] - 40s 43ms/step - loss: 2.0429 - accuracy: 0.4950\n",
            "\n",
            "Epoch 00021: loss improved from 2.23820 to 2.11254, saving model to /content/drive/MyDrive/Text-Generator/model_training.hdf5\n",
            "Epoch 22/100\n",
            "921/921 [==============================] - 40s 43ms/step - loss: 1.9001 - accuracy: 0.5277\n",
            "\n",
            "Epoch 00022: loss improved from 2.11254 to 1.99079, saving model to /content/drive/MyDrive/Text-Generator/model_training.hdf5\n",
            "Epoch 23/100\n",
            "921/921 [==============================] - 40s 43ms/step - loss: 1.8120 - accuracy: 0.5480\n",
            "\n",
            "Epoch 00023: loss improved from 1.99079 to 1.88184, saving model to /content/drive/MyDrive/Text-Generator/model_training.hdf5\n",
            "Epoch 24/100\n",
            "921/921 [==============================] - 40s 43ms/step - loss: 1.7095 - accuracy: 0.5693\n",
            "\n",
            "Epoch 00024: loss improved from 1.88184 to 1.77976, saving model to /content/drive/MyDrive/Text-Generator/model_training.hdf5\n",
            "Epoch 25/100\n",
            "921/921 [==============================] - 40s 43ms/step - loss: 1.6181 - accuracy: 0.5929\n",
            "\n",
            "Epoch 00025: loss improved from 1.77976 to 1.68670, saving model to /content/drive/MyDrive/Text-Generator/model_training.hdf5\n",
            "Epoch 26/100\n",
            "921/921 [==============================] - 40s 43ms/step - loss: 1.5325 - accuracy: 0.6106\n",
            "\n",
            "Epoch 00026: loss improved from 1.68670 to 1.60593, saving model to /content/drive/MyDrive/Text-Generator/model_training.hdf5\n",
            "Epoch 27/100\n",
            "921/921 [==============================] - 40s 43ms/step - loss: 1.4562 - accuracy: 0.6291\n",
            "\n",
            "Epoch 00027: loss improved from 1.60593 to 1.51875, saving model to /content/drive/MyDrive/Text-Generator/model_training.hdf5\n",
            "Epoch 28/100\n",
            "921/921 [==============================] - 40s 43ms/step - loss: 1.3716 - accuracy: 0.6498\n",
            "\n",
            "Epoch 00028: loss improved from 1.51875 to 1.43931, saving model to /content/drive/MyDrive/Text-Generator/model_training.hdf5\n",
            "Epoch 29/100\n",
            "921/921 [==============================] - 40s 43ms/step - loss: 1.3062 - accuracy: 0.6643\n",
            "\n",
            "Epoch 00029: loss improved from 1.43931 to 1.36601, saving model to /content/drive/MyDrive/Text-Generator/model_training.hdf5\n",
            "Epoch 30/100\n",
            "921/921 [==============================] - 40s 43ms/step - loss: 1.2312 - accuracy: 0.6816\n",
            "\n",
            "Epoch 00030: loss improved from 1.36601 to 1.29737, saving model to /content/drive/MyDrive/Text-Generator/model_training.hdf5\n",
            "Epoch 31/100\n",
            "921/921 [==============================] - 40s 43ms/step - loss: 1.1873 - accuracy: 0.6913\n",
            "\n",
            "Epoch 00031: loss improved from 1.29737 to 1.25188, saving model to /content/drive/MyDrive/Text-Generator/model_training.hdf5\n",
            "Epoch 32/100\n",
            "921/921 [==============================] - 40s 43ms/step - loss: 1.1170 - accuracy: 0.7105\n",
            "\n",
            "Epoch 00032: loss improved from 1.25188 to 1.19072, saving model to /content/drive/MyDrive/Text-Generator/model_training.hdf5\n",
            "Epoch 33/100\n",
            "921/921 [==============================] - 40s 43ms/step - loss: 1.0791 - accuracy: 0.7166\n",
            "\n",
            "Epoch 00033: loss improved from 1.19072 to 1.13471, saving model to /content/drive/MyDrive/Text-Generator/model_training.hdf5\n",
            "Epoch 34/100\n",
            "921/921 [==============================] - 40s 43ms/step - loss: 1.0279 - accuracy: 0.7296\n",
            "\n",
            "Epoch 00034: loss improved from 1.13471 to 1.07687, saving model to /content/drive/MyDrive/Text-Generator/model_training.hdf5\n",
            "Epoch 35/100\n",
            "921/921 [==============================] - 40s 43ms/step - loss: 0.9813 - accuracy: 0.7420\n",
            "\n",
            "Epoch 00035: loss improved from 1.07687 to 1.04023, saving model to /content/drive/MyDrive/Text-Generator/model_training.hdf5\n",
            "Epoch 36/100\n",
            "921/921 [==============================] - 40s 44ms/step - loss: 0.9376 - accuracy: 0.7506\n",
            "\n",
            "Epoch 00036: loss improved from 1.04023 to 0.99098, saving model to /content/drive/MyDrive/Text-Generator/model_training.hdf5\n",
            "Epoch 37/100\n",
            "921/921 [==============================] - 40s 43ms/step - loss: 0.9121 - accuracy: 0.7528\n",
            "\n",
            "Epoch 00037: loss improved from 0.99098 to 0.96055, saving model to /content/drive/MyDrive/Text-Generator/model_training.hdf5\n",
            "Epoch 38/100\n",
            "921/921 [==============================] - 40s 43ms/step - loss: 0.8642 - accuracy: 0.7701\n",
            "\n",
            "Epoch 00038: loss improved from 0.96055 to 0.92777, saving model to /content/drive/MyDrive/Text-Generator/model_training.hdf5\n",
            "Epoch 39/100\n",
            "921/921 [==============================] - 40s 43ms/step - loss: 0.8463 - accuracy: 0.7765\n",
            "\n",
            "Epoch 00039: loss improved from 0.92777 to 0.88904, saving model to /content/drive/MyDrive/Text-Generator/model_training.hdf5\n",
            "Epoch 40/100\n",
            "921/921 [==============================] - 40s 43ms/step - loss: 0.8063 - accuracy: 0.7823\n",
            "\n",
            "Epoch 00040: loss improved from 0.88904 to 0.86090, saving model to /content/drive/MyDrive/Text-Generator/model_training.hdf5\n",
            "Epoch 41/100\n",
            "921/921 [==============================] - 40s 43ms/step - loss: 0.7922 - accuracy: 0.7876\n",
            "\n",
            "Epoch 00041: loss improved from 0.86090 to 0.84173, saving model to /content/drive/MyDrive/Text-Generator/model_training.hdf5\n",
            "Epoch 42/100\n",
            "921/921 [==============================] - 40s 43ms/step - loss: 0.7625 - accuracy: 0.7931\n",
            "\n",
            "Epoch 00042: loss improved from 0.84173 to 0.81398, saving model to /content/drive/MyDrive/Text-Generator/model_training.hdf5\n",
            "Epoch 43/100\n",
            "921/921 [==============================] - 40s 43ms/step - loss: 0.7419 - accuracy: 0.7972\n",
            "\n",
            "Epoch 00043: loss improved from 0.81398 to 0.78151, saving model to /content/drive/MyDrive/Text-Generator/model_training.hdf5\n",
            "Epoch 44/100\n",
            "921/921 [==============================] - 40s 43ms/step - loss: 0.7166 - accuracy: 0.8082\n",
            "\n",
            "Epoch 00044: loss improved from 0.78151 to 0.76590, saving model to /content/drive/MyDrive/Text-Generator/model_training.hdf5\n",
            "Epoch 45/100\n",
            "921/921 [==============================] - 40s 43ms/step - loss: 0.7100 - accuracy: 0.8049\n",
            "\n",
            "Epoch 00045: loss improved from 0.76590 to 0.75170, saving model to /content/drive/MyDrive/Text-Generator/model_training.hdf5\n",
            "Epoch 46/100\n",
            "921/921 [==============================] - 40s 44ms/step - loss: 0.6873 - accuracy: 0.8129\n",
            "\n",
            "Epoch 00046: loss improved from 0.75170 to 0.73034, saving model to /content/drive/MyDrive/Text-Generator/model_training.hdf5\n",
            "Epoch 47/100\n",
            "921/921 [==============================] - 40s 43ms/step - loss: 0.6752 - accuracy: 0.8124\n",
            "\n",
            "Epoch 00047: loss improved from 0.73034 to 0.71566, saving model to /content/drive/MyDrive/Text-Generator/model_training.hdf5\n",
            "Epoch 48/100\n",
            "921/921 [==============================] - 40s 44ms/step - loss: 0.6493 - accuracy: 0.8221\n",
            "\n",
            "Epoch 00048: loss improved from 0.71566 to 0.69500, saving model to /content/drive/MyDrive/Text-Generator/model_training.hdf5\n",
            "Epoch 49/100\n",
            "921/921 [==============================] - 40s 43ms/step - loss: 0.6391 - accuracy: 0.8285\n",
            "\n",
            "Epoch 00049: loss improved from 0.69500 to 0.68678, saving model to /content/drive/MyDrive/Text-Generator/model_training.hdf5\n",
            "Epoch 50/100\n",
            "921/921 [==============================] - 40s 43ms/step - loss: 0.6315 - accuracy: 0.8272\n",
            "\n",
            "Epoch 00050: loss improved from 0.68678 to 0.67317, saving model to /content/drive/MyDrive/Text-Generator/model_training.hdf5\n",
            "Epoch 51/100\n",
            "921/921 [==============================] - 40s 43ms/step - loss: 0.6113 - accuracy: 0.8326\n",
            "\n",
            "Epoch 00051: loss improved from 0.67317 to 0.66171, saving model to /content/drive/MyDrive/Text-Generator/model_training.hdf5\n",
            "Epoch 52/100\n",
            "921/921 [==============================] - 40s 44ms/step - loss: 0.6023 - accuracy: 0.8354\n",
            "\n",
            "Epoch 00052: loss improved from 0.66171 to 0.64110, saving model to /content/drive/MyDrive/Text-Generator/model_training.hdf5\n",
            "Epoch 53/100\n",
            "921/921 [==============================] - 40s 43ms/step - loss: 0.5960 - accuracy: 0.8336\n",
            "\n",
            "Epoch 00053: loss improved from 0.64110 to 0.63696, saving model to /content/drive/MyDrive/Text-Generator/model_training.hdf5\n",
            "Epoch 54/100\n",
            "921/921 [==============================] - 40s 44ms/step - loss: 0.5749 - accuracy: 0.8400\n",
            "\n",
            "Epoch 00054: loss improved from 0.63696 to 0.61583, saving model to /content/drive/MyDrive/Text-Generator/model_training.hdf5\n",
            "Epoch 55/100\n",
            "921/921 [==============================] - 40s 44ms/step - loss: 0.5743 - accuracy: 0.8421\n",
            "\n",
            "Epoch 00055: loss did not improve from 0.61583\n",
            "Epoch 56/100\n",
            "921/921 [==============================] - 40s 43ms/step - loss: 0.5721 - accuracy: 0.8422\n",
            "\n",
            "Epoch 00056: loss improved from 0.61583 to 0.60373, saving model to /content/drive/MyDrive/Text-Generator/model_training.hdf5\n",
            "Epoch 57/100\n",
            "921/921 [==============================] - 40s 43ms/step - loss: 0.5608 - accuracy: 0.8467\n",
            "\n",
            "Epoch 00057: loss improved from 0.60373 to 0.59619, saving model to /content/drive/MyDrive/Text-Generator/model_training.hdf5\n",
            "Epoch 58/100\n",
            "921/921 [==============================] - 40s 44ms/step - loss: 0.5537 - accuracy: 0.8438\n",
            "\n",
            "Epoch 00058: loss improved from 0.59619 to 0.58581, saving model to /content/drive/MyDrive/Text-Generator/model_training.hdf5\n",
            "Epoch 59/100\n",
            "921/921 [==============================] - 40s 43ms/step - loss: 0.5401 - accuracy: 0.8505\n",
            "\n",
            "Epoch 00059: loss improved from 0.58581 to 0.57917, saving model to /content/drive/MyDrive/Text-Generator/model_training.hdf5\n",
            "Epoch 60/100\n",
            "921/921 [==============================] - 40s 43ms/step - loss: 0.5388 - accuracy: 0.8488\n",
            "\n",
            "Epoch 00060: loss improved from 0.57917 to 0.57802, saving model to /content/drive/MyDrive/Text-Generator/model_training.hdf5\n",
            "Epoch 61/100\n",
            "921/921 [==============================] - 40s 44ms/step - loss: 0.5349 - accuracy: 0.8492\n",
            "\n",
            "Epoch 00061: loss improved from 0.57802 to 0.56830, saving model to /content/drive/MyDrive/Text-Generator/model_training.hdf5\n",
            "Epoch 62/100\n",
            "921/921 [==============================] - 40s 43ms/step - loss: 0.5362 - accuracy: 0.8451\n",
            "\n",
            "Epoch 00062: loss improved from 0.56830 to 0.56273, saving model to /content/drive/MyDrive/Text-Generator/model_training.hdf5\n",
            "Epoch 63/100\n",
            "921/921 [==============================] - 40s 43ms/step - loss: 0.5261 - accuracy: 0.8523\n",
            "\n",
            "Epoch 00063: loss improved from 0.56273 to 0.55718, saving model to /content/drive/MyDrive/Text-Generator/model_training.hdf5\n",
            "Epoch 64/100\n",
            "921/921 [==============================] - 40s 44ms/step - loss: 0.5285 - accuracy: 0.8489\n",
            "\n",
            "Epoch 00064: loss did not improve from 0.55718\n",
            "Epoch 65/100\n",
            "921/921 [==============================] - 40s 43ms/step - loss: 0.5157 - accuracy: 0.8549\n",
            "\n",
            "Epoch 00065: loss improved from 0.55718 to 0.54992, saving model to /content/drive/MyDrive/Text-Generator/model_training.hdf5\n",
            "Epoch 66/100\n",
            "921/921 [==============================] - 40s 43ms/step - loss: 0.5103 - accuracy: 0.8566\n",
            "\n",
            "Epoch 00066: loss improved from 0.54992 to 0.54102, saving model to /content/drive/MyDrive/Text-Generator/model_training.hdf5\n",
            "Epoch 67/100\n",
            "921/921 [==============================] - 40s 43ms/step - loss: 0.4979 - accuracy: 0.8566\n",
            "\n",
            "Epoch 00067: loss did not improve from 0.54102\n",
            "Epoch 68/100\n",
            "921/921 [==============================] - 40s 44ms/step - loss: 0.5083 - accuracy: 0.8577\n",
            "\n",
            "Epoch 00068: loss improved from 0.54102 to 0.53260, saving model to /content/drive/MyDrive/Text-Generator/model_training.hdf5\n",
            "Epoch 69/100\n",
            "921/921 [==============================] - 40s 44ms/step - loss: 0.4957 - accuracy: 0.8575\n",
            "\n",
            "Epoch 00069: loss improved from 0.53260 to 0.52844, saving model to /content/drive/MyDrive/Text-Generator/model_training.hdf5\n",
            "Epoch 70/100\n",
            "921/921 [==============================] - 40s 44ms/step - loss: 0.4991 - accuracy: 0.8581\n",
            "\n",
            "Epoch 00070: loss improved from 0.52844 to 0.52680, saving model to /content/drive/MyDrive/Text-Generator/model_training.hdf5\n",
            "Epoch 71/100\n",
            "921/921 [==============================] - 40s 44ms/step - loss: 0.5051 - accuracy: 0.8548\n",
            "\n",
            "Epoch 00071: loss did not improve from 0.52680\n",
            "Epoch 72/100\n",
            "921/921 [==============================] - 40s 44ms/step - loss: 0.4948 - accuracy: 0.8591\n",
            "\n",
            "Epoch 00072: loss improved from 0.52680 to 0.52509, saving model to /content/drive/MyDrive/Text-Generator/model_training.hdf5\n",
            "Epoch 73/100\n",
            "921/921 [==============================] - 40s 43ms/step - loss: 0.4977 - accuracy: 0.8588\n",
            "\n",
            "Epoch 00073: loss did not improve from 0.52509\n",
            "Epoch 74/100\n",
            "921/921 [==============================] - 41s 44ms/step - loss: 0.4963 - accuracy: 0.8579\n",
            "\n",
            "Epoch 00074: loss improved from 0.52509 to 0.50995, saving model to /content/drive/MyDrive/Text-Generator/model_training.hdf5\n",
            "Epoch 75/100\n",
            "921/921 [==============================] - 40s 44ms/step - loss: 0.4853 - accuracy: 0.8595\n",
            "\n",
            "Epoch 00075: loss did not improve from 0.50995\n",
            "Epoch 76/100\n",
            "921/921 [==============================] - 40s 44ms/step - loss: 0.4880 - accuracy: 0.8599\n",
            "\n",
            "Epoch 00076: loss did not improve from 0.50995\n",
            "Epoch 77/100\n",
            "921/921 [==============================] - 41s 44ms/step - loss: 0.4880 - accuracy: 0.8631\n",
            "\n",
            "Epoch 00077: loss improved from 0.50995 to 0.50760, saving model to /content/drive/MyDrive/Text-Generator/model_training.hdf5\n",
            "Epoch 78/100\n",
            "921/921 [==============================] - 41s 44ms/step - loss: 0.4727 - accuracy: 0.8661\n",
            "\n",
            "Epoch 00078: loss improved from 0.50760 to 0.50485, saving model to /content/drive/MyDrive/Text-Generator/model_training.hdf5\n",
            "Epoch 79/100\n",
            "921/921 [==============================] - 40s 44ms/step - loss: 0.4794 - accuracy: 0.8620\n",
            "\n",
            "Epoch 00079: loss did not improve from 0.50485\n",
            "Epoch 80/100\n",
            "921/921 [==============================] - 40s 44ms/step - loss: 0.4674 - accuracy: 0.8640\n",
            "\n",
            "Epoch 00080: loss improved from 0.50485 to 0.50067, saving model to /content/drive/MyDrive/Text-Generator/model_training.hdf5\n",
            "Epoch 81/100\n",
            "921/921 [==============================] - 40s 44ms/step - loss: 0.4664 - accuracy: 0.8665\n",
            "\n",
            "Epoch 00081: loss improved from 0.50067 to 0.49812, saving model to /content/drive/MyDrive/Text-Generator/model_training.hdf5\n",
            "Epoch 82/100\n",
            "921/921 [==============================] - 41s 44ms/step - loss: 0.4775 - accuracy: 0.8605\n",
            "\n",
            "Epoch 00082: loss did not improve from 0.49812\n",
            "Epoch 83/100\n",
            "921/921 [==============================] - 40s 44ms/step - loss: 0.4799 - accuracy: 0.8596\n",
            "\n",
            "Epoch 00083: loss improved from 0.49812 to 0.49465, saving model to /content/drive/MyDrive/Text-Generator/model_training.hdf5\n",
            "Epoch 84/100\n",
            "921/921 [==============================] - 40s 44ms/step - loss: 0.4643 - accuracy: 0.8674\n",
            "\n",
            "Epoch 00084: loss improved from 0.49465 to 0.49152, saving model to /content/drive/MyDrive/Text-Generator/model_training.hdf5\n",
            "Epoch 85/100\n",
            "921/921 [==============================] - 40s 44ms/step - loss: 0.4653 - accuracy: 0.8645\n",
            "\n",
            "Epoch 00085: loss improved from 0.49152 to 0.49010, saving model to /content/drive/MyDrive/Text-Generator/model_training.hdf5\n",
            "Epoch 86/100\n",
            "921/921 [==============================] - 40s 44ms/step - loss: 0.4692 - accuracy: 0.8656\n",
            "\n",
            "Epoch 00086: loss did not improve from 0.49010\n",
            "Epoch 87/100\n",
            "921/921 [==============================] - 40s 44ms/step - loss: 0.4743 - accuracy: 0.8600\n",
            "\n",
            "Epoch 00087: loss did not improve from 0.49010\n",
            "Epoch 88/100\n",
            "921/921 [==============================] - 40s 44ms/step - loss: 0.4642 - accuracy: 0.8632\n",
            "\n",
            "Epoch 00088: loss improved from 0.49010 to 0.48566, saving model to /content/drive/MyDrive/Text-Generator/model_training.hdf5\n",
            "Epoch 89/100\n",
            "921/921 [==============================] - 40s 44ms/step - loss: 0.4556 - accuracy: 0.8680\n",
            "\n",
            "Epoch 00089: loss did not improve from 0.48566\n",
            "Epoch 90/100\n",
            "921/921 [==============================] - 40s 44ms/step - loss: 0.4632 - accuracy: 0.8660\n",
            "\n",
            "Epoch 00090: loss did not improve from 0.48566\n",
            "Epoch 91/100\n",
            "921/921 [==============================] - 40s 44ms/step - loss: 0.4716 - accuracy: 0.8630\n",
            "\n",
            "Epoch 00091: loss did not improve from 0.48566\n",
            "Epoch 92/100\n",
            "921/921 [==============================] - 40s 44ms/step - loss: 0.4609 - accuracy: 0.8666\n",
            "\n",
            "Epoch 00092: loss improved from 0.48566 to 0.47797, saving model to /content/drive/MyDrive/Text-Generator/model_training.hdf5\n",
            "Epoch 93/100\n",
            "921/921 [==============================] - 40s 44ms/step - loss: 0.4487 - accuracy: 0.8723\n",
            "\n",
            "Epoch 00093: loss improved from 0.47797 to 0.47372, saving model to /content/drive/MyDrive/Text-Generator/model_training.hdf5\n",
            "Epoch 94/100\n",
            "921/921 [==============================] - 40s 44ms/step - loss: 0.4520 - accuracy: 0.8704\n",
            "\n",
            "Epoch 00094: loss did not improve from 0.47372\n",
            "Epoch 95/100\n",
            "921/921 [==============================] - 40s 44ms/step - loss: 0.4517 - accuracy: 0.8695\n",
            "\n",
            "Epoch 00095: loss did not improve from 0.47372\n",
            "Epoch 96/100\n",
            "921/921 [==============================] - 40s 44ms/step - loss: 0.4628 - accuracy: 0.8644\n",
            "\n",
            "Epoch 00096: loss did not improve from 0.47372\n",
            "Epoch 97/100\n",
            "921/921 [==============================] - 40s 44ms/step - loss: 0.4653 - accuracy: 0.8613\n",
            "\n",
            "Epoch 00097: loss did not improve from 0.47372\n",
            "Epoch 98/100\n",
            "921/921 [==============================] - 40s 44ms/step - loss: 0.4534 - accuracy: 0.8679\n",
            "\n",
            "Epoch 00098: loss improved from 0.47372 to 0.47044, saving model to /content/drive/MyDrive/Text-Generator/model_training.hdf5\n",
            "Epoch 99/100\n",
            "921/921 [==============================] - 40s 44ms/step - loss: 0.4535 - accuracy: 0.8687\n",
            "\n",
            "Epoch 00099: loss did not improve from 0.47044\n",
            "Epoch 100/100\n",
            "921/921 [==============================] - 40s 44ms/step - loss: 0.4597 - accuracy: 0.8656\n",
            "\n",
            "Epoch 00100: loss did not improve from 0.47044\n"
          ],
          "name": "stdout"
        }
      ]
    },
    {
      "cell_type": "markdown",
      "metadata": {
        "id": "OMokMq0UJk2l"
      },
      "source": [
        "**9.Saving final model**\n"
      ]
    },
    {
      "cell_type": "code",
      "metadata": {
        "id": "y2sbxSuKTRNX"
      },
      "source": [
        "model.save(\"/content/drive/MyDrive/Text-Generator/model2.hdf5\")"
      ],
      "execution_count": null,
      "outputs": []
    },
    {
      "cell_type": "markdown",
      "metadata": {
        "id": "-wq6V_8sJtw1"
      },
      "source": [
        "**10.Loading Pre-trained model**\n"
      ]
    },
    {
      "cell_type": "code",
      "metadata": {
        "id": "UPgt2bTZTTx3"
      },
      "source": [
        "from tensorflow import keras\n",
        "model = keras.models.load_model('/content/drive/MyDrive/Text-Generator/model2.hdf5')\n"
      ],
      "execution_count": null,
      "outputs": []
    },
    {
      "cell_type": "markdown",
      "metadata": {
        "id": "j0VMJ0TpJwXo"
      },
      "source": [
        "**11. Example prediction of trained model.**"
      ]
    },
    {
      "cell_type": "code",
      "metadata": {
        "id": "ygaPrbd0TV11",
        "colab": {
          "base_uri": "https://localhost:8080/"
        },
        "outputId": "d9ab3d15-423d-4085-d0a5-91656ea89196"
      },
      "source": [
        "seed_text = \"we indeed cried\"\n",
        "next_words = 10\n",
        "  \n",
        "for _ in range(next_words):\n",
        " token_list = tokenizer.texts_to_sequences([seed_text])[0]\n",
        " token_list = pad_sequences([token_list], maxlen=max_sequence_len-1, padding='pre')\n",
        " predicted = np.argmax(model.predict(token_list), axis=-1)\n",
        " output_word = \"\"\n",
        " for word, index in tokenizer.word_index.items():\n",
        "  if index == predicted:\n",
        "   output_word = word\n",
        "   break\n",
        " seed_text += \" \" + output_word\n",
        "print(seed_text)"
      ],
      "execution_count": null,
      "outputs": [
        {
          "output_type": "stream",
          "text": [
            "we indeed cried the mouse who was trembling down to the end of\n"
          ],
          "name": "stdout"
        }
      ]
    },
    {
      "cell_type": "markdown",
      "metadata": {
        "id": "Vv2uQ9RkJzU6"
      },
      "source": [
        "#TO GET BETTER RESULTS WE CAN USE A BIGGER CORPUS OR FINETUNE THE LSTM MODEL"
      ]
    }
  ]
}